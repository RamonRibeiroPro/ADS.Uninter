{
  "nbformat": 4,
  "nbformat_minor": 0,
  "metadata": {
    "colab": {
      "provenance": [],
      "toc_visible": true,
      "authorship_tag": "ABX9TyO3FCZqbQ/gT+3c6sMnqlDU",
      "include_colab_link": true
    },
    "kernelspec": {
      "name": "python3",
      "display_name": "Python 3"
    },
    "language_info": {
      "name": "python"
    }
  },
  "cells": [
    {
      "cell_type": "markdown",
      "metadata": {
        "id": "view-in-github",
        "colab_type": "text"
      },
      "source": [
        "<a href=\"https://colab.research.google.com/github/RamonRibeiroPro/ADS.Uninter/blob/main/Pro_Ribeiro_ADS.ipynb\" target=\"_parent\"><img src=\"https://colab.research.google.com/assets/colab-badge.svg\" alt=\"Open In Colab\"/></a>"
      ]
    },
    {
      "cell_type": "code",
      "source": [
        "#Desenvolva um algoritmo que solicite ao usuário dois números inteiros. Imprima a soma desses dois números na tela.\n",
        "\n",
        "x = int(input('Digite a nota da primeira prova: '))\n",
        "y = int(input('Digite a nota da segunda prova:  '))\n",
        "\n",
        "res = f'A soma das duas provas é {x + y}.'\n",
        "print(res)\n"
      ],
      "metadata": {
        "id": "ADkSQAtd-K3n"
      },
      "execution_count": null,
      "outputs": []
    }
  ]
}