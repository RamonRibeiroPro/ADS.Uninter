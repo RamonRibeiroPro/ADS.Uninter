{
  "nbformat": 4,
  "nbformat_minor": 0,
  "metadata": {
    "colab": {
      "provenance": [],
      "authorship_tag": "ABX9TyP7RFSjuaAJxle/1+y80eN5",
      "include_colab_link": true
    },
    "kernelspec": {
      "name": "python3",
      "display_name": "Python 3"
    },
    "language_info": {
      "name": "python"
    }
  },
  "cells": [
    {
      "cell_type": "markdown",
      "metadata": {
        "id": "view-in-github",
        "colab_type": "text"
      },
      "source": [
        "<a href=\"https://colab.research.google.com/github/RamonRibeiroPro/ADS.Uninter/blob/main/Pro_Ribeiro_ADS.ipynb\" target=\"_parent\"><img src=\"https://colab.research.google.com/assets/colab-badge.svg\" alt=\"Open In Colab\"/></a>"
      ]
    },
    {
      "cell_type": "code",
      "source": [
        "#Crie um aplicativo onde o cliente será solicitado para digitar um número, e o programa vai reconhecer se ele é par ou ímpar!\n",
        "\n",
        "x= int(input('Digite um valor inteiro: '))\n",
        "\n",
        "if(x % 2 == 0):\n",
        "    print('O número é par!')\n",
        "\n",
        "else:\n",
        "    print('O número é ímpar!')"
      ],
      "metadata": {
        "id": "ADkSQAtd-K3n",
        "colab": {
          "base_uri": "https://localhost:8080/"
        },
        "outputId": "81d6a56d-fc59-4e88-cedb-a38697a84f33"
      },
      "execution_count": 24,
      "outputs": [
        {
          "output_type": "stream",
          "name": "stdout",
          "text": [
            "Digite um valor inteiro: 7\n",
            "O número é ímpar!\n"
          ]
        }
      ]
    },
    {
      "cell_type": "code",
      "source": [
        "#Crie um aplicativo onde o aluno vai lançar as notas de 3 matérias e a média precisa ser acima de 7 para ser aprovado, senão será reprovado!\n",
        "\n",
        "m1= float(input(\"Digite a nota da primeira matéria: \"))\n",
        "m2= float(input(\"Digite a nota da segunda matéria: \"))\n",
        "m3= float(input(\"Digite a nota da terceira matéria: \"))\n",
        "\n",
        "media= (m1+m2+m3)/3\n",
        "print(\"A média é  \",media)\n",
        "\n",
        "if m1>=7 and m2>=7 and m3>=7:\n",
        "    print(\"O aluno está Aprovado!\")\n",
        "else:\n",
        "    print(\"O aluno está Reprovado!\")"
      ],
      "metadata": {
        "colab": {
          "base_uri": "https://localhost:8080/"
        },
        "id": "DgzoVbTSKxMY",
        "outputId": "e14248a8-14fc-49ca-8204-eb7f8d014696"
      },
      "execution_count": 2,
      "outputs": [
        {
          "output_type": "stream",
          "name": "stdout",
          "text": [
            "Digite a nota da primeira matéria: 7\n",
            "Digite a nota da segunda matéria: 8\n",
            "Digite a nota da terceira matéria: 9\n",
            "A média é   8.0\n",
            "O aluno está Aprovado!\n"
          ]
        }
      ]
    },
    {
      "cell_type": "code",
      "source": [
        "#Crie um aplicativo para o caixa de um hortifrutti!\n",
        "\n",
        "print(\"Qual fruta você deseja levar?\")\n",
        "\n",
        "print(\"1- Maçã\")\n",
        "print(\"2- Laranja\")\n",
        "print(\"3- Banana\")\n",
        "\n",
        "produto = int(input(\"Digite o número da fruta que deseja?\"))\n",
        "qtd = int(input(\"Digite a quantidade que deseja?\"))\n",
        "\n",
        "if (produto == 1):\n",
        "    print(\"Você comprou: \",qtd, \"maçãs\")\n",
        "    print(\"O valor total é: \",qtd*2.30)\n",
        "\n",
        "#usando else e if\n",
        "else:\n",
        "    if (produto == 2):\n",
        "        print(\"Você comprou: \",qtd, \"laranjas\")\n",
        "        print(\"O valor total é: \",qtd*3.60)\n",
        "    else:\n",
        "        if (produto == 3):\n",
        "            print(\"Você comprou: \",qtd, \"bananas\")\n",
        "            print(\"O valor total é: \",qtd*1.85)\n",
        "\n",
        ""
      ],
      "metadata": {
        "colab": {
          "base_uri": "https://localhost:8080/"
        },
        "id": "yLZBxpX0NMUo",
        "outputId": "1bc44352-9e1a-4764-c275-a1f4f7c179ac"
      },
      "execution_count": 14,
      "outputs": [
        {
          "output_type": "stream",
          "name": "stdout",
          "text": [
            "Qual fruta você deseja levar?\n",
            "1- Maçã\n",
            "2- Laranja\n",
            "3- Banana\n",
            "Digite o número da fruta que deseja?3\n",
            "Digite a quantidade que deseja?12\n",
            "Você comprou:  12 bananas\n",
            "O valor total é:  22.200000000000003\n"
          ]
        }
      ]
    },
    {
      "cell_type": "code",
      "source": [
        "#Crie um aplicativo para o caixa de um hortifrutti!\n",
        "\n",
        "print(\"Qual fruta você deseja levar?\")\n",
        "\n",
        "print(\"1- Maçã\")\n",
        "print(\"2- Laranja\")\n",
        "print(\"3- Banana\")\n",
        "\n",
        "produto = int(input(\"Digite o número da fruta que deseja?\"))\n",
        "qtd = int(input(\"Digite a quantidade que deseja?\"))\n",
        "\n",
        "if (produto == 1):\n",
        "    print(\"Você comprou: \",qtd, \"maçãs\")\n",
        "    print(\"O valor total é: \",qtd*2.30)\n",
        "\n",
        "#usando elif\n",
        "elif (produto == 2):\n",
        "        print(\"Você comprou: \",qtd, \"laranjas\")\n",
        "        print(\"O valor total é: \",qtd*3.60)\n",
        "\n",
        "elif (produto == 3):\n",
        "            print(\"Você comprou: \",qtd, \"bananas\")\n",
        "            print(\"O valor total é: \",qtd*1.85)"
      ],
      "metadata": {
        "id": "4sZnZPhQW1Ht",
        "outputId": "d28008ae-df6d-4d5a-9483-bebaf78bf82f",
        "colab": {
          "base_uri": "https://localhost:8080/"
        }
      },
      "execution_count": 15,
      "outputs": [
        {
          "output_type": "stream",
          "name": "stdout",
          "text": [
            "Qual fruta você deseja levar?\n",
            "1- Maçã\n",
            "2- Laranja\n",
            "3- Banana\n",
            "Digite o número da fruta que deseja?3\n",
            "Digite a quantidade que deseja?12\n",
            "Você comprou:  12 bananas\n",
            "O valor total é:  22.200000000000003\n"
          ]
        }
      ]
    }
  ]
}